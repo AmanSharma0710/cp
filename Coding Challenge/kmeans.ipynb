{
    "cells": [
        {
            "cell_type": "code",
            "execution_count": 61,
            "source": [
                "import numpy as np\r\n",
                "import cv2 as cv\r\n",
                "from collections import Counter\r\n"
            ],
            "outputs": [],
            "metadata": {}
        },
        {
            "cell_type": "code",
            "execution_count": 62,
            "source": [
                "img = cv.imread('peppers-large.tiff')"
            ],
            "outputs": [],
            "metadata": {}
        },
        {
            "cell_type": "code",
            "execution_count": 63,
            "source": [
                "print(img.shape)\r\n",
                "fimg = img.reshape(-1, 3)\r\n",
                "print(fimg.shape)"
            ],
            "outputs": [
                {
                    "output_type": "stream",
                    "name": "stdout",
                    "text": [
                        "(512, 512, 3)\n",
                        "(262144, 3)\n"
                    ]
                }
            ],
            "metadata": {}
        },
        {
            "cell_type": "code",
            "execution_count": 64,
            "source": [
                "k = 16   #number of clusters\r\n",
                "centroids = 255 * np.random.rand(k, 3)\r\n",
                "print(centroids.shape)"
            ],
            "outputs": [
                {
                    "output_type": "stream",
                    "name": "stdout",
                    "text": [
                        "(16, 3)\n"
                    ]
                }
            ],
            "metadata": {}
        },
        {
            "cell_type": "code",
            "execution_count": 65,
            "source": [
                "x = fimg - centroids[3]\r\n",
                "x = np.linalg.norm(x, axis=1)\r\n",
                "x = x.reshape(-1, 1)\r\n",
                "x.shape"
            ],
            "outputs": [
                {
                    "output_type": "execute_result",
                    "data": {
                        "text/plain": [
                            "(262144, 1)"
                        ]
                    },
                    "metadata": {},
                    "execution_count": 65
                }
            ],
            "metadata": {}
        },
        {
            "cell_type": "code",
            "execution_count": 66,
            "source": [
                "for iterations in range(150):\r\n",
                "    distances = np.zeros([262144, k])\r\n",
                "\r\n",
                "    for i in range(k):\r\n",
                "        curr_dist = np.linalg.norm(fimg - centroids[i], axis = 1)\r\n",
                "        distances[:, i] = curr_dist\r\n",
                "\r\n",
                "    closest_cluster = np.argmin(distances, axis = 1)\r\n",
                "    counter = Counter(closest_cluster)\r\n",
                "\r\n",
                "    if (iterations>1):\r\n",
                "            if ((last_closest_cluster-closest_cluster).sum()==0):\r\n",
                "                break\r\n",
                "\r\n",
                "    for x in counter:\r\n",
                "        if (counter[x]>0):\r\n",
                "            vectorn = np.array([0, 0, 0], dtype=np.float64)\r\n",
                "            for j in range(262144):\r\n",
                "                if (closest_cluster[j]==x):\r\n",
                "                    vectorn += fimg[j]\r\n",
                "            vectorn /= counter[x]\r\n",
                "            centroids[x] = vectorn\r\n",
                "\r\n",
                "    last_closest_cluster = closest_cluster.copy()"
            ],
            "outputs": [],
            "metadata": {}
        },
        {
            "cell_type": "code",
            "execution_count": 67,
            "source": [
                "for j in range(262144):\r\n",
                "    fimg[j] = centroids[closest_cluster[j]]"
            ],
            "outputs": [],
            "metadata": {}
        },
        {
            "cell_type": "code",
            "execution_count": 68,
            "source": [
                "img = fimg.reshape(512, 512, 3)"
            ],
            "outputs": [],
            "metadata": {}
        },
        {
            "cell_type": "code",
            "execution_count": 69,
            "source": [
                "cv.imshow('compressed', img)\r\n",
                "cv.waitKey(0)\r\n",
                "cv.destroyAllWindows()"
            ],
            "outputs": [],
            "metadata": {}
        },
        {
            "cell_type": "code",
            "execution_count": 70,
            "source": [
                "cv.imwrite('peppers-kmeans.tiff', img)"
            ],
            "outputs": [
                {
                    "output_type": "execute_result",
                    "data": {
                        "text/plain": [
                            "True"
                        ]
                    },
                    "metadata": {},
                    "execution_count": 70
                }
            ],
            "metadata": {}
        }
    ],
    "metadata": {
        "orig_nbformat": 4,
        "language_info": {
            "name": "python",
            "version": "3.8.8",
            "mimetype": "text/x-python",
            "codemirror_mode": {
                "name": "ipython",
                "version": 3
            },
            "pygments_lexer": "ipython3",
            "nbconvert_exporter": "python",
            "file_extension": ".py"
        },
        "kernelspec": {
            "name": "python3",
            "display_name": "Python 3.8.8 64-bit ('base': conda)"
        },
        "interpreter": {
            "hash": "b3ba2566441a7c06988d0923437866b63cedc61552a5af99d1f4fb67d367b25f"
        }
    },
    "nbformat": 4,
    "nbformat_minor": 2
}